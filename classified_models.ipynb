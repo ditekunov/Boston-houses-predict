{
 "cells": [
  {
   "cell_type": "code",
   "execution_count": 1,
   "metadata": {
    "collapsed": true
   },
   "outputs": [],
   "source": [
    "import pandas as pd\n",
    "import numpy as np\n",
    "import numpy as np\n",
    "import pandas as pd\n",
    "from numpy import array\n",
    "from numpy import argmax\n",
    "from sklearn.preprocessing import LabelEncoder\n",
    "from sklearn.preprocessing import OneHotEncoder\n",
    "from sklearn import model_selection\n",
    "import matplotlib.pyplot as plt\n",
    "from sklearn.preprocessing import StandardScaler\n",
    "from sklearn.linear_model import LinearRegression\n",
    "from sklearn.linear_model import LogisticRegression\n",
    "from sklearn.metrics import accuracy_score, roc_auc_score\n",
    "from sklearn.metrics import roc_curve, precision_recall_curve\n",
    "from sklearn.ensemble import RandomForestClassifier\n",
    "from sklearn.tree import DecisionTreeClassifier\n",
    "from sklearn.ensemble import BaggingClassifier\n",
    "from sklearn.neighbors import KNeighborsClassifier\n",
    "from sklearn.ensemble import RandomForestClassifier\n",
    "import seaborn as sns\n",
    "from sklearn.metrics import f1_score\n",
    "import time\n",
    "from sklearn.metrics import classification_report"
   ]
  },
  {
   "cell_type": "code",
   "execution_count": 2,
   "metadata": {},
   "outputs": [
    {
     "name": "stdout",
     "output_type": "stream",
     "text": [
      "   ID     crim    zn  indus  chas    nox     rm   age     dis  rad  tax  \\\n0   1  0.00632  18.0   2.31     0  0.538  6.575  65.2  4.0900    1  296   \n1   2  0.02731   0.0   7.07     0  0.469  6.421  78.9  4.9671    2  242   \n2   4  0.03237   0.0   2.18     0  0.458  6.998  45.8  6.0622    3  222   \n3   5  0.06905   0.0   2.18     0  0.458  7.147  54.2  6.0622    3  222   \n4   7  0.08829  12.5   7.87     0  0.524  6.012  66.6  5.5605    5  311   \n\n   ptratio   black  lstat  medv  \n0     15.3  396.90   4.98   5.0  \n1     17.8  396.90   9.14   4.0  \n2     18.7  394.63   2.94   8.0  \n3     18.7  396.90   5.33   8.0  \n4     15.2  395.60  12.43   4.0  \n__________\n0    5.0\n1    4.0\n2    8.0\n3    8.0\n4    4.0\nName: medv, dtype: float64\n__________\n      crim    zn  indus  chas    nox     rm   age     dis  rad  tax  ptratio  \\\n0  0.00632  18.0   2.31     0  0.538  6.575  65.2  4.0900    1  296     15.3   \n1  0.02731   0.0   7.07     0  0.469  6.421  78.9  4.9671    2  242     17.8   \n2  0.03237   0.0   2.18     0  0.458  6.998  45.8  6.0622    3  222     18.7   \n3  0.06905   0.0   2.18     0  0.458  7.147  54.2  6.0622    3  222     18.7   \n4  0.08829  12.5   7.87     0  0.524  6.012  66.6  5.5605    5  311     15.2   \n\n    black  lstat  \n0  396.90   4.98  \n1  396.90   9.14  \n2  394.63   2.94  \n3  396.90   5.33  \n4  395.60  12.43  \n"
     ]
    }
   ],
   "source": [
    "data = pd.read_csv(\"/Users/daniiltekunov/Desktop/train.csv\")\n",
    "\n",
    "data['medv'] = np.where(data['medv'].between(0, 9), 0, data['medv'])\n",
    "\n",
    "data['medv'] = np.where(data['medv'].between(9, 13.5), 1, data['medv'])\n",
    "\n",
    "data['medv'] = np.where(data['medv'].between(13.5, 15), 2, data['medv'])\n",
    "\n",
    "data['medv'] = np.where(data['medv'].between(15, 17), 3, data['medv'])\n",
    "\n",
    "data['medv'] = np.where(data['medv'].between(17, 23), 4, data['medv'])\n",
    "\n",
    "data['medv'] = np.where(data['medv'].between(23, 25), 5, data['medv'])\n",
    "\n",
    "data['medv'] = np.where(data['medv'].between(25, 30), 6, data['medv'])\n",
    "\n",
    "data['medv'] = np.where(data['medv'].between(30, 33), 7, data['medv'])\n",
    "\n",
    "data['medv'] = np.where(data['medv'].between(33, 45), 8, data['medv'])\n",
    "\n",
    "data['medv'] = np.where(data['medv'].between(45, 60), 9, data['medv'])\n",
    "\n",
    "print(data[0:5])\n",
    "\n",
    "y = data.medv\n",
    "\n",
    "\n",
    "X = data.drop('medv', axis=1)\n",
    "X = X.drop('ID', axis=1)\n",
    "print(\"__________\")\n",
    "print(y[0:5])\n",
    "print(\"__________\")\n",
    "print(X[0:5])"
   ]
  },
  {
   "cell_type": "markdown",
   "metadata": {},
   "source": [
    "Now, let's split the sample via 8:2:"
   ]
  },
  {
   "cell_type": "code",
   "execution_count": 3,
   "metadata": {},
   "outputs": [
    {
     "name": "stdout",
     "output_type": "stream",
     "text": [
      "266\n67\n266\n67\n"
     ]
    }
   ],
   "source": [
    "# Saving seed \n",
    "divide_seed = np.random.randint(1, 100)\n",
    "\n",
    "# And then split the data\n",
    "X_train, X_test, y_train, y_test = model_selection.train_test_split(\n",
    "    X, y, test_size=0.2, random_state=divide_seed)\n",
    "\n",
    "# And check if they splitted correctly\n",
    "print(len(X_train))\n",
    "print(len(X_test))\n",
    "print(len(y_train))\n",
    "print(len(y_test))"
   ]
  },
  {
   "cell_type": "markdown",
   "metadata": {},
   "source": [
    "Also, we need to normallize and scale the data, so we'll use Scaler:"
   ]
  },
  {
   "cell_type": "code",
   "execution_count": 4,
   "metadata": {},
   "outputs": [],
   "source": [
    "scaler = StandardScaler()\n",
    "\n",
    "# We normalize train sample\n",
    "scaler.fit(X_train)\n",
    "X_train = scaler.transform(X_train)\n",
    "\n",
    "# And test sample\n",
    "scaler.fit(X_test)\n",
    "X_test = scaler.transform(X_test)"
   ]
  },
  {
   "cell_type": "markdown",
   "metadata": {},
   "source": [
    "Let's start with a linear regression all over the model:\n"
   ]
  },
  {
   "cell_type": "code",
   "execution_count": 9,
   "metadata": {},
   "outputs": [
    {
     "name": "stdout",
     "output_type": "stream",
     "text": [
      "Test result: 0.7288773448597603\n"
     ]
    },
    {
     "name": "stdout",
     "output_type": "stream",
     "text": [
      "Train result: 0.749279570842966\n             precision    recall  f1-score   support\n\n        0.0       0.00      0.00      0.00         0\n        1.0       0.00      0.00      0.00         2\n        2.0       0.00      0.00      0.00         8\n        3.0       0.50      0.07      0.12        14\n        4.0       0.32      0.78      0.45         9\n        5.0       0.44      0.29      0.35        14\n        6.0       0.33      0.25      0.29         8\n        7.0       0.80      0.44      0.57         9\n        8.0       0.60      1.00      0.75         3\n\navg / total       0.41      0.31      0.30        67\n\n"
     ]
    },
    {
     "name": "stderr",
     "output_type": "stream",
     "text": [
      "/usr/local/lib/python3.6/site-packages/sklearn/metrics/classification.py:1137: UndefinedMetricWarning: Recall and F-score are ill-defined and being set to 0.0 in labels with no true samples.\n  'recall', 'true', average, warn_for)\n"
     ]
    }
   ],
   "source": [
    "lr = LinearRegression()\n",
    "\n",
    "lr.fit(X_train, y_train)\n",
    "\n",
    "prediction_lr = lr.predict(X_test)\n",
    "\n",
    "print(\"Test result:\", lr.score(X_test, y_test))\n",
    "\n",
    "print(\"Train result:\", lr.score(X_train, y_train))\n",
    "\n",
    "print(classification_report(prediction_lr.round(), y_test))"
   ]
  },
  {
   "cell_type": "markdown",
   "metadata": {},
   "source": [
    "Now, let's try to improve the quality by using KNN:"
   ]
  },
  {
   "cell_type": "code",
   "execution_count": 10,
   "metadata": {},
   "outputs": [
    {
     "name": "stdout",
     "output_type": "stream",
     "text": [
      "Predicted with  2  neighbours\nPredicted with  3  neighbours\nPredicted with  4  neighbours\nPredicted with  5  neighbours\nPredicted with  6  neighbours\nPredicted with  7  neighbours\nPredicted with  8  neighbours\nPredicted with  9  neighbours\nPredicted with  10  neighbours\nPredicted with  11  neighbours\nPredicted with  12  neighbours\nPredicted with  13  neighbours\nPredicted with  14  neighbours\nPredicted with  15  neighbours\nPredicted with  16  neighbours\nPredicted with  17  neighbours\nPredicted with  18  neighbours\nPredicted with  19  neighbours\nPredicted with  20  neighbours\nPredicted with  21  neighbours\nPredicted with  22  neighbours\nPredicted with  23  neighbours\nPredicted with  24  neighbours\nPredicted with  25  neighbours\nPredicted with  26  neighbours\nPredicted with  27  neighbours\n"
     ]
    },
    {
     "name": "stdout",
     "output_type": "stream",
     "text": [
      "Predicted with  28  neighbours\nPredicted with  29  neighbours\nPredicted with  30  neighbours\nPredicted with  31  neighbours\nPredicted with  32  neighbours\nPredicted with  33  neighbours\nPredicted with  34  neighbours\nPredicted with  35  neighbours\nPredicted with  36  neighbours\nPredicted with  37  neighbours\nPredicted with  38  neighbours\nPredicted with  39  neighbours\nPredicted with  40  neighbours\nPredicted with  41  neighbours\nPredicted with  42  neighbours\nPredicted with  43  neighbours\nPredicted with  44  neighbours\nPredicted with  45  neighbours\nPredicted with  46  neighbours\nPredicted with  47  neighbours\nPredicted with  48  neighbours\nPredicted with  49  neighbours\nPredicted with  50  neighbours\nPredicted with  51  neighbours\nPredicted with  52  neighbours\nPredicted with  53  neighbours\nPredicted with  54  neighbours\nPredicted with  55  neighbours\nPredicted with  56  neighbours\n"
     ]
    },
    {
     "name": "stdout",
     "output_type": "stream",
     "text": [
      "Predicted with  57  neighbours\nPredicted with  58  neighbours\nPredicted with  59  neighbours\nPredicted with  60  neighbours\nPredicted with  61  neighbours\nPredicted with  62  neighbours\nPredicted with  63  neighbours\nPredicted with  64  neighbours\nPredicted with  65  neighbours\nPredicted with  66  neighbours\nPredicted with  67  neighbours\nPredicted with  68  neighbours\nPredicted with  69  neighbours\nPredicted with  70  neighbours\nPredicted with  71  neighbours\nPredicted with  72  neighbours\nPredicted with  73  neighbours\nPredicted with  74  neighbours\nPredicted with  75  neighbours\nPredicted with  76  neighbours\nPredicted with  77  neighbours\nPredicted with  78  neighbours\n"
     ]
    },
    {
     "name": "stdout",
     "output_type": "stream",
     "text": [
      "Predicted with  79  neighbours\nPredicted with  80  neighbours\nPredicted with  81  neighbours\nPredicted with  82  neighbours\nPredicted with  83  neighbours\nPredicted with  84  neighbours\nPredicted with  85  neighbours\nPredicted with  86  neighbours\nPredicted with  87  neighbours\nPredicted with  88  neighbours\nPredicted with  89  neighbours\nPredicted with  90  neighbours\nPredicted with  91  neighbours\nPredicted with  92  neighbours\nPredicted with  93  neighbours\nPredicted with  94  neighbours\nPredicted with  95  neighbours\nPredicted with  96  neighbours\nPredicted with  97  neighbours\n"
     ]
    },
    {
     "name": "stdout",
     "output_type": "stream",
     "text": [
      "Predicted with  98  neighbours\nPredicted with  99  neighbours\n"
     ]
    }
   ],
   "source": [
    "list_of_predictions_knn = list()\n",
    "list_of_test_results_knn = list()\n",
    "list_of_train_results_knn = list()\n",
    "list_of_f_knn = list()\n",
    "\n",
    "for i in range(2, 100):\n",
    "    knn = KNeighborsClassifier(n_neighbors=i, weights = 'distance')\n",
    "    knn.fit(X_train, y_train)\n",
    "    knn_predict = knn.predict(X_train)\n",
    "    list_of_predictions_knn.append(knn_predict)\n",
    "    list_of_test_results_knn.append(knn.score(X_test, y_test))\n",
    "    #list_of_train_results_knn.append(knn.score(X_train, y_train))\n",
    "    #list_of_f_knn.append(f1_score(y_train, knn_predict))\n",
    "    print(\"Predicted with \", i, \" neighbours\")"
   ]
  },
  {
   "cell_type": "code",
   "execution_count": 11,
   "metadata": {},
   "outputs": [
    {
     "name": "stdout",
     "output_type": "stream",
     "text": [
      "Max test result:  0.4925373134328358  takes  3  neighbors\n             precision    recall  f1-score   support\n\n        0.0       0.00      0.00      0.00         0\n        1.0       0.56      0.45      0.50        11\n        2.0       0.00      0.00      0.00         0\n        3.0       0.00      0.00      0.00         1\n        4.0       0.86      0.51      0.64        37\n        5.0       0.22      0.20      0.21        10\n        6.0       0.00      0.00      0.00         0\n        7.0       0.20      1.00      0.33         1\n        8.0       1.00      0.71      0.83         7\n\navg / total       0.71      0.48      0.56        67\n\n"
     ]
    },
    {
     "name": "stderr",
     "output_type": "stream",
     "text": [
      "/usr/local/lib/python3.6/site-packages/sklearn/metrics/classification.py:1137: UndefinedMetricWarning: Recall and F-score are ill-defined and being set to 0.0 in labels with no true samples.\n  'recall', 'true', average, warn_for)\n"
     ]
    },
    {
     "data": {
      "image/png": "[encoded data removed]",
      "text/plain": [
       "<matplotlib.figure.Figure at 0x116f653c8>"
      ]
     },
     "metadata": {},
     "output_type": "display_data"
    }
   ],
   "source": [
    "print(\"Max test result: \", max(list_of_test_results_knn), \n",
    "      \" takes \", (list_of_test_results_knn.index(max(list_of_test_results_knn))+2), \" neighbors\")\n",
    "\n",
    "plt.scatter(x=list((range(2, 100))), y=list_of_test_results_knn)\n",
    "\n",
    "knn = KNeighborsClassifier(n_neighbors=21, weights = 'distance')\n",
    "knn.fit(X_train, y_train)\n",
    "knn_predict = knn.predict(X_test)\n",
    "list_of_predictions_knn.append(knn_predict)\n",
    "list_of_test_results_knn.append(knn.score(X_test, y_test))\n",
    "\n",
    "print(classification_report(knn_predict.round(), y_test))"
   ]
  },
  {
   "cell_type": "markdown",
   "metadata": {},
   "source": [
    "Now, let's try to use Logistic regression:"
   ]
  },
  {
   "cell_type": "code",
   "execution_count": 82,
   "metadata": {},
   "outputs": [
    {
     "name": "stdout",
     "output_type": "stream",
     "text": [
      "Train result: 0.6390977443609023\nAccuracy: 0.43283582089552236\n             precision    recall  f1-score   support\n\n        0.0       0.25      1.00      0.40         1\n        1.0       0.38      0.60      0.46         5\n        2.0       0.00      0.00      0.00         5\n        3.0       0.00      0.00      0.00         1\n        4.0       0.86      0.54      0.67        35\n        5.0       0.20      0.11      0.14         9\n        6.0       0.20      0.50      0.29         2\n        7.0       0.25      0.50      0.33         2\n        8.0       0.33      0.40      0.36         5\n        9.0       0.20      0.50      0.29         2\n\navg / total       0.55      0.43      0.46        67\n\n"
     ]
    }
   ],
   "source": [
    "logistic_model = LogisticRegression(solver=\"newton-cg\", multi_class=\"multinomial\")\n",
    "\n",
    "logistic_model.fit(X_train, y_train)\n",
    "\n",
    "prediction = logistic_model.predict(X_test)\n",
    "\n",
    "print(\"Train result:\", logistic_model.score(X_train, y_train))\n",
    "\n",
    "print(\"Accuracy:\", accuracy_score(y_test, prediction))\n",
    "\n",
    "print(classification_report(prediction.round(), y_test))"
   ]
  },
  {
   "cell_type": "markdown",
   "metadata": {},
   "source": [
    "Now Decision Tree:"
   ]
  },
  {
   "cell_type": "code",
   "execution_count": 83,
   "metadata": {},
   "outputs": [
    {
     "name": "stdout",
     "output_type": "stream",
     "text": [
      "Test result (accuracy): 0.3582089552238806\nAccuracy: 0.3582089552238806\n             precision    recall  f1-score   support\n\n        0.0       0.25      1.00      0.40         1\n        1.0       0.25      0.40      0.31         5\n        2.0       0.50      0.14      0.22         7\n        3.0       0.00      0.00      0.00         1\n        4.0       0.59      0.54      0.57        24\n        5.0       0.20      0.07      0.10        15\n        6.0       0.00      0.00      0.00         5\n        7.0       0.25      0.50      0.33         2\n        8.0       0.67      0.67      0.67         6\n        9.0       0.20      1.00      0.33         1\n\navg / total       0.40      0.36      0.35        67\n\n"
     ]
    }
   ],
   "source": [
    "decision_tree = DecisionTreeClassifier(random_state=3)\n",
    "\n",
    "decision_tree.fit(X_train, y_train)\n",
    "\n",
    "prediction_tree = decision_tree.predict(X_test)\n",
    "\n",
    "print(\"Test result (accuracy):\", decision_tree.score(X_test, y_test))\n",
    "\n",
    "print(\"Accuracy:\", accuracy_score(y_test, prediction_tree))\n",
    "\n",
    "print(classification_report(prediction_tree.round(), y_test))"
   ]
  },
  {
   "cell_type": "markdown",
   "metadata": {},
   "source": [
    "Now let's look at this in RandomForest:"
   ]
  },
  {
   "cell_type": "code",
   "execution_count": 51,
   "metadata": {},
   "outputs": [
    {
     "name": "stdout",
     "output_type": "stream",
     "text": [
      "Number of trees: 50\nPrediction completed by 5.0 %\nTook  0.5947229862213135  seconds\n--------------------\n"
     ]
    },
    {
     "name": "stdout",
     "output_type": "stream",
     "text": [
      "Number of trees: 150\nPrediction completed by 15.0 %\nTook  3.0614309310913086  seconds\n--------------------\n"
     ]
    },
    {
     "name": "stdout",
     "output_type": "stream",
     "text": [
      "Number of trees: 250\nPrediction completed by 25.0 %\nTook  7.164557933807373  seconds\n--------------------\n"
     ]
    },
    {
     "name": "stdout",
     "output_type": "stream",
     "text": [
      "Number of trees: 350\nPrediction completed by 35.0 %\nTook  12.967283725738525  seconds\n--------------------\n"
     ]
    },
    {
     "name": "stdout",
     "output_type": "stream",
     "text": [
      "Number of trees: 450\nPrediction completed by 45.0 %\nTook  22.07860779762268  seconds\n--------------------\n"
     ]
    },
    {
     "name": "stdout",
     "output_type": "stream",
     "text": [
      "Number of trees: 550\nPrediction completed by 55.0 %\nTook  31.73835802078247  seconds\n--------------------\n"
     ]
    },
    {
     "name": "stdout",
     "output_type": "stream",
     "text": [
      "Number of trees: 650\nPrediction completed by 65.0 %\nTook  42.61555099487305  seconds\n--------------------\n"
     ]
    },
    {
     "name": "stdout",
     "output_type": "stream",
     "text": [
      "Number of trees: 750\nPrediction completed by 75.0 %\nTook  56.10689616203308  seconds\n--------------------\n"
     ]
    },
    {
     "name": "stdout",
     "output_type": "stream",
     "text": [
      "Number of trees: 850\nPrediction completed by 85.0 %\nTook  70.45958232879639  seconds\n--------------------\n"
     ]
    },
    {
     "name": "stdout",
     "output_type": "stream",
     "text": [
      "Number of trees: 950\nPrediction completed by 95.0 %\nTook  85.73197722434998  seconds\n--------------------\n"
     ]
    },
    {
     "name": "stdout",
     "output_type": "stream",
     "text": [
      "Prediction completed by 100%\nPrediction took  172.84855699539185  seconds\n"
     ]
    }
   ],
   "source": [
    "test_forest_results = list()\n",
    "train_forest_results = list()\n",
    "accuracy_forest_results = list()\n",
    "auc_roc_forest_results = list()\n",
    "forest_f_results = list()\n",
    "time_list = list()\n",
    "\n",
    "accuracy_forest_results_proba = list()\n",
    "auc_roc_forest_results_proba = list()\n",
    "\n",
    "start = time.time()\n",
    "cur_time = start\n",
    "\n",
    "for j in range(10, 1000, 10):\n",
    "    \n",
    "    decision_forest = RandomForestClassifier(random_state=3, n_estimators=j)\n",
    "    decision_forest_proba = RandomForestClassifier(random_state=3, n_estimators=j)\n",
    "\n",
    "    decision_forest.fit(X_train, y_train)\n",
    "    \n",
    "    decision_forest_proba.fit(X_train, y_train)\n",
    "\n",
    "    prediction_forest = decision_forest.predict(X_test)\n",
    "    \n",
    "    prediction_forest_pr = decision_forest_proba.predict_proba(X_test)[:, 1]\n",
    "\n",
    "    test_forest_results.append(decision_forest.score(X_test, y_test))\n",
    "\n",
    "    train_forest_results.append(decision_forest.score(X_train, y_train))\n",
    "\n",
    "    accuracy_forest_results.append(accuracy_score(y_test, prediction_forest))\n",
    "    \n",
    "    if j % 50 == 0:\n",
    "        cur_time = time.time() - cur_time\n",
    "        if j % 100 != 0:\n",
    "            time_list.append(cur_time)\n",
    "            print('Number of trees:', j)\n",
    "            print(\"Prediction completed by\", j/10, \"%\")\n",
    "            print(\"Took \", cur_time, \" seconds\")\n",
    "            print(\"--------------------\")\n",
    "print(\"Prediction completed by 100%\")\n",
    "finish = time.time() - start\n",
    "\n",
    "print(\"Prediction took \", finish, \" seconds\")"
   ]
  },
  {
   "cell_type": "code",
   "execution_count": 24,
   "metadata": {},
   "outputs": [
    {
     "name": "stdout",
     "output_type": "stream",
     "text": [
      "Max test result:  0.582089552238806  takes  580  trees\nMax accuracy result:  0.582089552238806  takes  580  trees\nMax accuracy result with proba:  0.1044776119402985  takes  580  trees\nTime taken via number of trees:\n"
     ]
    },
    {
     "data": {
      "image/png": "[encoded data removed]",
      "text/plain": [
       "<matplotlib.figure.Figure at 0x10b6fcb38>"
      ]
     },
     "metadata": {},
     "output_type": "display_data"
    }
   ],
   "source": [
    "print(\"Max test result: \", max(test_forest_results), \" takes \", (test_forest_results.index(max(test_forest_results))+1)*10, \" trees\")\n",
    "\n",
    "print(\"Max accuracy result: \", max(accuracy_forest_results), \" takes \", (accuracy_forest_results.index(max(accuracy_forest_results))+1)*10, \" trees\")\n",
    "\n",
    "plt.show()\n",
    "#plt.scatter(x=list((range(10, 1000, 10))), y=auc_roc_forest_results_proba)\n",
    "plt.show()\n",
    "#plt.scatter(x=list((range(10, 1000, 10))), y=forest_f_results)\n",
    "plt.show()\n",
    "\n",
    "print(\"Time taken via number of trees:\")\n",
    "plt.scatter(x=list(range(0, 10)), y=time_list)\n",
    "plt.show()"
   ]
  },
  {
   "cell_type": "code",
   "execution_count": 86,
   "metadata": {},
   "outputs": [
    {
     "name": "stdout",
     "output_type": "stream",
     "text": [
      "             precision    recall  f1-score   support\n\n        0.0       0.25      1.00      0.40         1\n        1.0       0.62      0.71      0.67         7\n        2.0       0.50      0.25      0.33         4\n        3.0       0.00      0.00      0.00         1\n        4.0       0.91      0.62      0.74        32\n        5.0       0.60      0.43      0.50         7\n        6.0       0.40      1.00      0.57         2\n        7.0       0.25      0.50      0.33         2\n        8.0       0.67      0.44      0.53         9\n        9.0       0.40      1.00      0.57         2\n\navg / total       0.72      0.58      0.62        67\n\n"
     ]
    }
   ],
   "source": [
    "decision_forest = RandomForestClassifier(random_state=3, n_estimators=580)\n",
    "decision_forest_proba = RandomForestClassifier(random_state=3, n_estimators=580)\n",
    "\n",
    "decision_forest.fit(X_train, y_train)\n",
    "    \n",
    "decision_forest_proba.fit(X_train, y_train)\n",
    "\n",
    "prediction_forest = decision_forest.predict(X_test)\n",
    "    \n",
    "prediction_forest_pr = decision_forest_proba.predict_proba(X_test)[:, 1]\n",
    "\n",
    "test_forest_results.append(decision_forest.score(X_test, y_test))\n",
    "\n",
    "train_forest_results.append(decision_forest.score(X_train, y_train))\n",
    "\n",
    "accuracy_forest_results.append(accuracy_score(y_test, prediction_forest))\n",
    "\n",
    "print(classification_report(prediction_forest.round(), y_test))"
   ]
  },
  {
   "cell_type": "markdown",
   "metadata": {},
   "source": [
    "And finally, let's take a look at importances of the classes:"
   ]
  },
  {
   "cell_type": "code",
   "execution_count": 25,
   "metadata": {},
   "outputs": [
    {
     "name": "stdout",
     "output_type": "stream",
     "text": [
      "[0.11704612 0.01874101 0.04430606 0.00917622 0.07368359 0.16890341\n 0.09671985 0.09749003 0.02644314 0.04907317 0.04161858 0.07966053\n 0.17713829]\n"
     ]
    },
    {
     "data": {
      "text/plain": [
       "<matplotlib.collections.PathCollection at 0x10b769ac8>"
      ]
     },
     "execution_count": 25,
     "metadata": {},
     "output_type": "execute_result"
    },
    {
     "data": {
      "image/png": "[encoded data removed]",
      "text/plain": [
       "<matplotlib.figure.Figure at 0x104a5b128>"
      ]
     },
     "metadata": {},
     "output_type": "display_data"
    }
   ],
   "source": [
    "importances = list(decision_forest.feature_importances_)\n",
    "\n",
    "number = list(range(1, 14))\n",
    "\n",
    "print(decision_forest.feature_importances_)\n",
    "\n",
    "plt.scatter(x=number, y=importances)"
   ]
  },
  {
   "cell_type": "code",
   "execution_count": null,
   "metadata": {},
   "outputs": [],
   "source": [
    ""
   ]
  }
 ],
 "metadata": {
  "kernelspec": {
   "display_name": "Python 2",
   "language": "python",
   "name": "python2"
  },
  "language_info": {
   "codemirror_mode": {
    "name": "ipython",
    "version": 2.0
   },
   "file_extension": ".py",
   "mimetype": "text/x-python",
   "name": "python",
   "nbconvert_exporter": "python",
   "pygments_lexer": "ipython2",
   "version": "2.7.6"
  }
 },
 "nbformat": 4,
 "nbformat_minor": 0
}