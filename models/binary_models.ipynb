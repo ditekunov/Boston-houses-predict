{
 "cells": [
  {
   "cell_type": "code",
   "execution_count": 9,
   "metadata": {
    "collapsed": true
   },
   "outputs": [],
   "source": [
    "import pandas as pd\n",
    "import numpy as np\n",
    "import numpy as np\n",
    "import pandas as pd\n",
    "from numpy import array\n",
    "from numpy import argmax\n",
    "from sklearn.preprocessing import LabelEncoder\n",
    "from sklearn.preprocessing import OneHotEncoder\n",
    "from sklearn import model_selection\n",
    "import matplotlib.pyplot as plt\n",
    "from sklearn.preprocessing import StandardScaler\n",
    "from sklearn.linear_model import LinearRegression\n",
    "from sklearn.linear_model import LogisticRegression\n",
    "from sklearn.metrics import accuracy_score, roc_auc_score\n",
    "from sklearn.metrics import roc_curve, precision_recall_curve\n",
    "from sklearn.ensemble import RandomForestClassifier\n",
    "from sklearn.tree import DecisionTreeClassifier\n",
    "from sklearn.ensemble import BaggingClassifier\n",
    "from sklearn.neighbors import KNeighborsClassifier\n",
    "from sklearn.ensemble import RandomForestClassifier\n",
    "import seaborn as sns\n",
    "from sklearn.metrics import f1_score\n",
    "import time\n",
    "from sklearn.metrics import classification_report"
   ]
  },
  {
   "cell_type": "code",
   "execution_count": 109,
   "metadata": {},
   "outputs": [
    {
     "name": "stdout",
     "output_type": "stream",
     "text": [
      "   ID     crim    zn  indus  chas    nox     rm   age     dis  rad  tax  \\\n0   1  0.00632  18.0   2.31     0  0.538  6.575  65.2  4.0900    1  296   \n1   2  0.02731   0.0   7.07     0  0.469  6.421  78.9  4.9671    2  242   \n2   4  0.03237   0.0   2.18     0  0.458  6.998  45.8  6.0622    3  222   \n3   5  0.06905   0.0   2.18     0  0.458  7.147  54.2  6.0622    3  222   \n4   7  0.08829  12.5   7.87     0  0.524  6.012  66.6  5.5605    5  311   \n\n   ptratio   black  lstat  medv  \n0     15.3  396.90   4.98   0.0  \n1     17.8  396.90   9.14   0.0  \n2     18.7  394.63   2.94   1.0  \n3     18.7  396.90   5.33   1.0  \n4     15.2  395.60  12.43   0.0  \n__________\n0    0.0\n1    0.0\n2    1.0\n3    1.0\n4    0.0\nName: medv, dtype: float64\n__________\n      crim    zn  indus  chas    nox     rm   age     dis  rad  tax  ptratio  \\\n0  0.00632  18.0   2.31     0  0.538  6.575  65.2  4.0900    1  296     15.3   \n1  0.02731   0.0   7.07     0  0.469  6.421  78.9  4.9671    2  242     17.8   \n2  0.03237   0.0   2.18     0  0.458  6.998  45.8  6.0622    3  222     18.7   \n3  0.06905   0.0   2.18     0  0.458  7.147  54.2  6.0622    3  222     18.7   \n4  0.08829  12.5   7.87     0  0.524  6.012  66.6  5.5605    5  311     15.2   \n\n    black  lstat  \n0  396.90   4.98  \n1  396.90   9.14  \n2  394.63   2.94  \n3  396.90   5.33  \n4  395.60  12.43  \n"
     ]
    }
   ],
   "source": [
    "data = pd.read_csv(\"train.csv\")\n",
    "\n",
    "data['medv'] = data['medv'].mask(data['medv'] >= 25, 1)\n",
    "\n",
    "data['medv'] = data['medv'].mask(data['medv'] > 1, 0)\n",
    "\n",
    "print(data[0:5])\n",
    "\n",
    "y = data.medv\n",
    "\n",
    "\n",
    "X = data.drop('medv', axis=1)\n",
    "X = X.drop('ID', axis=1)\n",
    "print(\"__________\")\n",
    "print(y[0:5])\n",
    "print(\"__________\")\n",
    "print(X[0:5])"
   ]
  },
  {
   "cell_type": "markdown",
   "metadata": {},
   "source": [
    "Now, let's split the sample via 8:2:"
   ]
  },
  {
   "cell_type": "code",
   "execution_count": 110,
   "metadata": {},
   "outputs": [
    {
     "name": "stdout",
     "output_type": "stream",
     "text": [
      "266\n67\n266\n67\n"
     ]
    }
   ],
   "source": [
    "# Saving seed \n",
    "divide_seed = np.random.randint(1, 100)\n",
    "\n",
    "# And then split the data\n",
    "X_train, X_test, y_train, y_test = model_selection.train_test_split(\n",
    "    X, y, test_size=0.2, random_state=divide_seed)\n",
    "\n",
    "# And check if they splitted correctly\n",
    "print(len(X_train))\n",
    "print(len(X_test))\n",
    "print(len(y_train))\n",
    "print(len(y_test))"
   ]
  },
  {
   "cell_type": "markdown",
   "metadata": {},
   "source": [
    "Also, we need to normallize and scale the data, so we'll use Scaler:"
   ]
  },
  {
   "cell_type": "code",
   "execution_count": 111,
   "metadata": {},
   "outputs": [],
   "source": [
    "scaler = StandardScaler()\n",
    "\n",
    "# We normalize train sample\n",
    "scaler.fit(X_train)\n",
    "X_train = scaler.transform(X_train)\n",
    "\n",
    "# And test sample\n",
    "scaler.fit(X_test)\n",
    "X_test = scaler.transform(X_test)"
   ]
  },
  {
   "cell_type": "markdown",
   "metadata": {},
   "source": [
    "Let's start with a linear regression all over the model:\n"
   ]
  },
  {
   "cell_type": "code",
   "execution_count": 114,
   "metadata": {},
   "outputs": [
    {
     "name": "stdout",
     "output_type": "stream",
     "text": [
      "Test result: 0.5105602689817332\nTrain result: 0.5079745531443174\n"
     ]
    }
   ],
   "source": [
    "lr = LinearRegression()\n",
    "\n",
    "lr.fit(X_train, y_train)\n",
    "\n",
    "prediction_lr = lr.predict(X_test)\n",
    "\n",
    "print(\"Test result:\", lr.score(X_test, y_test))\n",
    "\n",
    "print(\"Train result:\", lr.score(X_train, y_train))"
   ]
  },
  {
   "cell_type": "markdown",
   "metadata": {},
   "source": [
    "Now, let's try to improve the quality by using ID feature too:"
   ]
  },
  {
   "cell_type": "code",
   "execution_count": 137,
   "metadata": {},
   "outputs": [
    {
     "name": "stdout",
     "output_type": "stream",
     "text": [
      "Predicted with  2  neighbours\nPredicted with  3  neighbours\nPredicted with  4  neighbours\nPredicted with  5  neighbours\nPredicted with  6  neighbours\nPredicted with  7  neighbours\nPredicted with  8  neighbours\nPredicted with  9  neighbours\nPredicted with  10  neighbours\nPredicted with  11  neighbours\nPredicted with  12  neighbours\nPredicted with  13  neighbours\nPredicted with  14  neighbours\nPredicted with  15  neighbours\nPredicted with  16  neighbours\nPredicted with  17  neighbours\nPredicted with  18  neighbours\nPredicted with  19  neighbours\nPredicted with  20  neighbours\nPredicted with  21  neighbours\nPredicted with  22  neighbours\nPredicted with  23  neighbours\nPredicted with  24  neighbours\nPredicted with  25  neighbours\nPredicted with  26  neighbours\nPredicted with  27  neighbours\nPredicted with  28  neighbours\nPredicted with  29  neighbours\nPredicted with  30  neighbours\nPredicted with  31  neighbours\nPredicted with  32  neighbours\nPredicted with  33  neighbours\nPredicted with  34  neighbours\nPredicted with  35  neighbours\nPredicted with  36  neighbours\n"
     ]
    },
    {
     "name": "stdout",
     "output_type": "stream",
     "text": [
      "Predicted with  37  neighbours\nPredicted with  38  neighbours\nPredicted with  39  neighbours\nPredicted with  40  neighbours\nPredicted with  41  neighbours\nPredicted with  42  neighbours\nPredicted with  43  neighbours\nPredicted with  44  neighbours\nPredicted with  45  neighbours\nPredicted with  46  neighbours\nPredicted with  47  neighbours\nPredicted with  48  neighbours\nPredicted with  49  neighbours\nPredicted with  50  neighbours\nPredicted with  51  neighbours\nPredicted with  52  neighbours\nPredicted with  53  neighbours\nPredicted with  54  neighbours\nPredicted with  55  neighbours\nPredicted with  56  neighbours\nPredicted with  57  neighbours\nPredicted with  58  neighbours\nPredicted with  59  neighbours\n"
     ]
    },
    {
     "name": "stdout",
     "output_type": "stream",
     "text": [
      "Predicted with  60  neighbours\nPredicted with  61  neighbours\nPredicted with  62  neighbours\nPredicted with  63  neighbours\nPredicted with  64  neighbours\nPredicted with  65  neighbours\nPredicted with  66  neighbours\nPredicted with  67  neighbours\nPredicted with  68  neighbours\nPredicted with  69  neighbours\nPredicted with  70  neighbours\nPredicted with  71  neighbours\nPredicted with  72  neighbours\nPredicted with  73  neighbours\nPredicted with  74  neighbours\nPredicted with  75  neighbours\nPredicted with  76  neighbours\nPredicted with  77  neighbours\nPredicted with  78  neighbours\nPredicted with  79  neighbours\nPredicted with  80  neighbours\nPredicted with  81  neighbours\nPredicted with  82  neighbours\nPredicted with  83  neighbours\nPredicted with  84  neighbours\n"
     ]
    },
    {
     "name": "stdout",
     "output_type": "stream",
     "text": [
      "Predicted with  85  neighbours\nPredicted with  86  neighbours\nPredicted with  87  neighbours\nPredicted with  88  neighbours\nPredicted with  89  neighbours\nPredicted with  90  neighbours\nPredicted with  91  neighbours\nPredicted with  92  neighbours\nPredicted with  93  neighbours\nPredicted with  94  neighbours\nPredicted with  95  neighbours\nPredicted with  96  neighbours\nPredicted with  97  neighbours\nPredicted with  98  neighbours\nPredicted with  99  neighbours\n"
     ]
    }
   ],
   "source": [
    "list_of_predictions_knn = list()\n",
    "list_of_test_results_knn = list()\n",
    "list_of_train_results_knn = list()\n",
    "list_of_f_knn = list()\n",
    "\n",
    "for i in range(2, 100):\n",
    "    knn = KNeighborsClassifier(n_neighbors=i)\n",
    "    knn.fit(X_train, y_train)\n",
    "    knn_predict = knn.predict(X_train)\n",
    "    list_of_predictions_knn.append(knn_predict)\n",
    "    list_of_test_results_knn.append(knn.score(X_test, y_test))\n",
    "    #list_of_train_results_knn.append(knn.score(X_train, y_train))\n",
    "    list_of_f_knn.append(f1_score(y_train, knn_predict))\n",
    "    print(\"Predicted with \", i, \" neighbours\")"
   ]
  },
  {
   "cell_type": "code",
   "execution_count": 122,
   "metadata": {},
   "outputs": [
    {
     "name": "stdout",
     "output_type": "stream",
     "text": [
      "Max test result:  0.9402985074626866  takes  6  neighbors\nMax test f-measure:  0.9117647058823529  takes  3  neighbors\n"
     ]
    },
    {
     "data": {
      "text/plain": [
       "<matplotlib.collections.PathCollection at 0x108ceeda0>"
      ]
     },
     "execution_count": 122,
     "metadata": {},
     "output_type": "execute_result"
    },
    {
     "data": {
      "image/png": "[encoded data removed]",
      "text/plain": [
       "<matplotlib.figure.Figure at 0x108c52240>"
      ]
     },
     "metadata": {},
     "output_type": "display_data"
    }
   ],
   "source": [
    "print(\"Max test result: \", max(list_of_test_results_knn), \n",
    "      \" takes \", (list_of_test_results_knn.index(max(list_of_test_results_knn))+2), \" neighbors\")\n",
    "\n",
    "plt.scatter(x=list((range(2, 100))), y=list_of_test_results_knn)\n",
    "\n",
    "print(\"Max test f-measure: \", max(list_of_f_knn), \n",
    "      \" takes \", (list_of_f_knn.index(max(list_of_f_knn))+2), \" neighbors\")\n",
    "\n",
    "plt.scatter(x=list((range(2, 100))), y=list_of_f_knn)"
   ]
  },
  {
   "cell_type": "markdown",
   "metadata": {},
   "source": [
    "Now, let's try to use Logistic regression:"
   ]
  },
  {
   "cell_type": "code",
   "execution_count": 124,
   "metadata": {},
   "outputs": [
    {
     "name": "stdout",
     "output_type": "stream",
     "text": [
      "Train result: 0.9022556390977443\nAccuracy: 0.8955223880597015\n######################################################\n"
     ]
    },
    {
     "data": {
      "text/plain": [
       "[<matplotlib.lines.Line2D at 0x108e22a58>]"
      ]
     },
     "execution_count": 124,
     "metadata": {},
     "output_type": "execute_result"
    },
    {
     "data": {
      "image/png": "[encoded data removed]",
      "text/plain": [
       "<matplotlib.figure.Figure at 0x108d306d8>"
      ]
     },
     "metadata": {},
     "output_type": "display_data"
    }
   ],
   "source": [
    "logistic_model = LogisticRegression()\n",
    "\n",
    "logistic_model.fit(X_train, y_train)\n",
    "\n",
    "prediction = logistic_model.predict(X_test)\n",
    "\n",
    "#print(\"Test result:\", logistic_model.score(X_test, y_test))\n",
    "\n",
    "print(\"Train result:\", logistic_model.score(X_train, y_train))\n",
    "\n",
    "print(\"Accuracy:\", accuracy_score(y_test, prediction))\n",
    "\n",
    "#print(\"AUC-ROC:\", roc_auc_score(y_test, prediction))\n",
    "\n",
    "#print(\"F-measure: \", f1_score(y_test, prediction))\n",
    "\n",
    "print(\"######################################################\")\n",
    "logistic_model_proba = LogisticRegression()\n",
    "\n",
    "logistic_model_proba.fit(X_train, y_train)\n",
    "\n",
    "prediction_proba = logistic_model.predict_proba(X_test)\n",
    "\n",
    "\n",
    "# Now let's create the ROC-curve and PR-curve to represent our model\n",
    "plt.xlabel(\"False Positive Rate\")\n",
    "plt.ylabel(\"True Positive Rate\")\n",
    "fpr, tpr, _ = roc_curve(y_test, prediction)\n",
    "acc = logistic_model.score(X_test, y_test)\n",
    "auc = roc_auc_score(y_test, prediction_proba[:, 1])\n",
    "plt.plot(fpr, tpr, label=\"acc:%.2f auc:%.2f\" % (acc, auc), linewidth=3)\n",
    "plt.legend(loc=\"best\")\n",
    "\n",
    "precision, recall, thresholds = precision_recall_curve(y_test, prediction_proba[:, 1])\n",
    "\n",
    "#plt.plot(fpr, tpr)\n",
    "\n",
    "plt.plot(recall, precision)"
   ]
  },
  {
   "cell_type": "markdown",
   "metadata": {},
   "source": [
    "Now Decision Tree:"
   ]
  },
  {
   "cell_type": "code",
   "execution_count": 126,
   "metadata": {},
   "outputs": [
    {
     "name": "stdout",
     "output_type": "stream",
     "text": [
      "Test result (accuracy): 0.7611940298507462\nAccuracy: 0.7611940298507462\nAUC-ROC: 0.5336927223719676\nF-measure:  0.2\n######################################################\nAccuracy: 0.7611940298507462\nAUC-ROC: 0.5336927223719676\n"
     ]
    }
   ],
   "source": [
    "decision_tree = DecisionTreeClassifier(random_state=3)\n",
    "\n",
    "decision_tree.fit(X_train, y_train)\n",
    "\n",
    "prediction_tree = decision_tree.predict(X_test)\n",
    "\n",
    "print(\"Test result (accuracy):\", decision_tree.score(X_test, y_test))\n",
    "\n",
    "print(\"Accuracy:\", accuracy_score(y_test, prediction_tree))\n",
    "\n",
    "auc_roc_tree = roc_auc_score(y_test, prediction_tree)\n",
    "\n",
    "print(\"AUC-ROC:\", auc_roc_tree)\n",
    "\n",
    "print(\"F-measure: \", f1_score(y_test, prediction_tree))\n",
    "\n",
    "print(\"######################################################\")\n",
    "decision_tree_proba = DecisionTreeClassifier(random_state=3)\n",
    "\n",
    "decision_tree_proba.fit(X_train, y_train)\n",
    "\n",
    "prediction_tree_proba = decision_tree_proba.predict_proba(X_test)[:, 1]\n",
    "\n",
    "print(\"Accuracy:\", accuracy_score(y_test, prediction_tree_proba))\n",
    "\n",
    "auc_roc_tree = roc_auc_score(y_test, prediction_tree_proba)\n",
    "\n",
    "print(\"AUC-ROC:\", auc_roc_tree)"
   ]
  },
  {
   "cell_type": "markdown",
   "metadata": {},
   "source": [
    "Not really impressive, so let's try to add bagging:"
   ]
  },
  {
   "cell_type": "code",
   "execution_count": 128,
   "metadata": {},
   "outputs": [
    {
     "name": "stdout",
     "output_type": "stream",
     "text": [
      "######################################################\nAccuracy: 0.9402985074626866\nAUC-ROC: 0.9824797843665769\nF-measure:  0.896551724137931\n"
     ]
    }
   ],
   "source": [
    "bagging = BaggingClassifier(base_estimator=DecisionTreeClassifier(random_state=3), n_estimators=100)\n",
    "\n",
    "bagging.fit(X_train, y_train)\n",
    "\n",
    "prediction_bagging = bagging.predict(X_test)\n",
    "\n",
    "auc_roc_tree = roc_auc_score(y_test, prediction_bagging)\n",
    "\n",
    "print(\"######################################################\")\n",
    "bagging_proba = BaggingClassifier(base_estimator=DecisionTreeClassifier(random_state=3), n_estimators=100)\n",
    "\n",
    "bagging_proba.fit(X_train, y_train)\n",
    "\n",
    "prediction_bagging_proba = bagging_proba.predict_proba(X_test)[:, 1]\n",
    "\n",
    "print(\"Accuracy:\", accuracy_score(y_test, prediction_bagging_proba > 0.5))\n",
    "\n",
    "auc_roc_tree = roc_auc_score(y_test, prediction_bagging_proba)\n",
    "\n",
    "print(\"AUC-ROC:\", auc_roc_tree)\n",
    "\n",
    "print(\"F-measure: \", f1_score(y_test, prediction_bagging))"
   ]
  },
  {
   "cell_type": "markdown",
   "metadata": {},
   "source": [
    "Much better, but let's look at this in RandomForest:"
   ]
  },
  {
   "cell_type": "code",
   "execution_count": 130,
   "metadata": {},
   "outputs": [
    {
     "name": "stdout",
     "output_type": "stream",
     "text": [
      "Number of trees: 50\nPrediction completed by 5.0 %\nTook  0.4686558246612549  seconds\n--------------------\n"
     ]
    },
    {
     "name": "stdout",
     "output_type": "stream",
     "text": [
      "Number of trees: 150\nPrediction completed by 15.0 %\nTook  2.3366498947143555  seconds\n--------------------\n"
     ]
    },
    {
     "name": "stdout",
     "output_type": "stream",
     "text": [
      "Number of trees: 250\nPrediction completed by 25.0 %\nTook  5.568629026412964  seconds\n--------------------\n"
     ]
    },
    {
     "name": "stdout",
     "output_type": "stream",
     "text": [
      "Number of trees: 350\nPrediction completed by 35.0 %\nTook  11.500606060028076  seconds\n--------------------\n"
     ]
    },
    {
     "name": "stdout",
     "output_type": "stream",
     "text": [
      "Number of trees: 450\nPrediction completed by 45.0 %\nTook  17.365936040878296  seconds\n--------------------\n"
     ]
    },
    {
     "name": "stdout",
     "output_type": "stream",
     "text": [
      "Number of trees: 550\nPrediction completed by 55.0 %\nTook  25.067940950393677  seconds\n--------------------\n"
     ]
    },
    {
     "name": "stdout",
     "output_type": "stream",
     "text": [
      "Number of trees: 650\nPrediction completed by 65.0 %\nTook  33.62836408615112  seconds\n--------------------\n"
     ]
    },
    {
     "name": "stdout",
     "output_type": "stream",
     "text": [
      "Number of trees: 750\nPrediction completed by 75.0 %\nTook  43.700114011764526  seconds\n--------------------\n"
     ]
    },
    {
     "name": "stdout",
     "output_type": "stream",
     "text": [
      "Number of trees: 850\nPrediction completed by 85.0 %\nTook  55.4137659072876  seconds\n--------------------\n"
     ]
    },
    {
     "name": "stdout",
     "output_type": "stream",
     "text": [
      "Number of trees: 950\nPrediction completed by 95.0 %\nTook  68.39603114128113  seconds\n--------------------\n"
     ]
    },
    {
     "name": "stdout",
     "output_type": "stream",
     "text": [
      "Prediction completed by 100%\nPrediction took  141.5101819038391  seconds\n"
     ]
    }
   ],
   "source": [
    "test_forest_results = list()\n",
    "train_forest_results = list()\n",
    "accuracy_forest_results = list()\n",
    "auc_roc_forest_results = list()\n",
    "forest_f_results = list()\n",
    "time_list = list()\n",
    "\n",
    "accuracy_forest_results_proba = list()\n",
    "auc_roc_forest_results_proba = list()\n",
    "\n",
    "start = time.time()\n",
    "cur_time = start\n",
    "\n",
    "for j in range(10, 1000, 10):\n",
    "    \n",
    "    decision_forest = RandomForestClassifier(random_state=3, n_estimators=j)\n",
    "    decision_forest_proba = RandomForestClassifier(random_state=3, n_estimators=j)\n",
    "\n",
    "    decision_forest.fit(X_train, y_train)\n",
    "    \n",
    "    decision_forest_proba.fit(X_train, y_train)\n",
    "\n",
    "    prediction_forest = decision_forest.predict(X_test)\n",
    "    \n",
    "    prediction_forest_pr = decision_forest_proba.predict_proba(X_test)[:, 1]\n",
    "\n",
    "    test_forest_results.append(decision_forest.score(X_test, y_test))\n",
    "\n",
    "    train_forest_results.append(decision_forest.score(X_train, y_train))\n",
    "\n",
    "    accuracy_forest_results.append(accuracy_score(y_test, prediction_forest))\n",
    "    \n",
    "    accuracy_forest_results_proba.append(accuracy_score(y_test, prediction_forest_pr > 0.5))\n",
    "\n",
    "    auc_roc_forest = roc_auc_score(y_test, prediction_forest)\n",
    "    \n",
    "    forest_f_results.append(f1_score(y_test, prediction_forest > 0.5))\n",
    "\n",
    "    auc_roc_forest_results.append(auc_roc_forest)\n",
    "    auc_roc_forest_results_proba.append(roc_auc_score(y_test, prediction_forest_pr))\n",
    "    if j % 50 == 0:\n",
    "        cur_time = time.time() - cur_time\n",
    "        if j % 100 != 0:\n",
    "            time_list.append(cur_time)\n",
    "            print('Number of trees:', j)\n",
    "            print(\"Prediction completed by\", j/10, \"%\")\n",
    "            print(\"Took \", cur_time, \" seconds\")\n",
    "            print(\"--------------------\")\n",
    "print(\"Prediction completed by 100%\")\n",
    "finish = time.time() - start\n",
    "\n",
    "print(\"Prediction took \", finish, \" seconds\")"
   ]
  },
  {
   "cell_type": "code",
   "execution_count": 132,
   "metadata": {},
   "outputs": [
    {
     "name": "stdout",
     "output_type": "stream",
     "text": [
      "Max test result:  0.9552238805970149  takes  10  trees\nMax accuracy result:  0.9552238805970149  takes  10  trees\nMax auc-roc result:  0.9454177897574124  takes  10  trees\nMax accuracy result with proba:  0.9552238805970149  takes  10  trees\nMax auc-roc result with proba:  0.9878706199460916  takes  10  trees\nMax F-measure:  0.896551724137931  takes  10  trees\n"
     ]
    },
    {
     "data": {
      "image/png": "[encoded data removed]",
      "text/plain": [
       "<matplotlib.figure.Figure at 0x109087be0>"
      ]
     },
     "metadata": {},
     "output_type": "display_data"
    },
    {
     "data": {
      "image/png": "[encoded data removed]",
      "text/plain": [
       "<matplotlib.figure.Figure at 0x109125dd8>"
      ]
     },
     "metadata": {},
     "output_type": "display_data"
    },
    {
     "data": {
      "image/png": "[encoded data removed]",
      "text/plain": [
       "<matplotlib.figure.Figure at 0x1091f0a90>"
      ]
     },
     "metadata": {},
     "output_type": "display_data"
    },
    {
     "name": "stdout",
     "output_type": "stream",
     "text": [
      "Time taken via number of trees:\n"
     ]
    },
    {
     "data": {
      "image/png": "[encoded data removed]",
      "text/plain": [
       "<matplotlib.figure.Figure at 0x109221588>"
      ]
     },
     "metadata": {},
     "output_type": "display_data"
    }
   ],
   "source": [
    "print(\"Max test result: \", max(test_forest_results), \" takes \", (test_forest_results.index(max(test_forest_results))+1)*10, \" trees\")\n",
    "\n",
    "print(\"Max accuracy result: \", max(accuracy_forest_results), \" takes \", (accuracy_forest_results.index(max(accuracy_forest_results))+1)*10, \" trees\")\n",
    "\n",
    "print(\"Max auc-roc result: \", max(auc_roc_forest_results), \" takes \", (auc_roc_forest_results.index(max(auc_roc_forest_results))+1)*10, \" trees\")\n",
    "\n",
    "print(\"Max accuracy result with proba: \", max(accuracy_forest_results_proba), \" takes \", (accuracy_forest_results.index(max(accuracy_forest_results))+1)*10, \" trees\")\n",
    "\n",
    "print(\"Max auc-roc result with proba: \", max(auc_roc_forest_results_proba), \" takes \", (auc_roc_forest_results.index(max(auc_roc_forest_results))+1)*10, \" trees\")\n",
    "\n",
    "print(\"Max F-measure: \", max(forest_f_results), \" takes \", (forest_f_results.index(max(forest_f_results))+1)*10, \" trees\")\n",
    "\n",
    "\n",
    "plt.scatter(x=list((range(10, 1000, 10))), y=auc_roc_forest_results)\n",
    "plt.show()\n",
    "plt.scatter(x=list((range(10, 1000, 10))), y=auc_roc_forest_results_proba)\n",
    "plt.show()\n",
    "plt.scatter(x=list((range(10, 1000, 10))), y=forest_f_results)\n",
    "plt.show()\n",
    "\n",
    "print(\"Time taken via number of trees:\")\n",
    "plt.scatter(x=list(range(0, 10)), y=time_list)\n",
    "plt.show()"
   ]
  },
  {
   "cell_type": "markdown",
   "metadata": {},
   "source": [
    "And finally, let's take a look at importances of the classes:"
   ]
  },
  {
   "cell_type": "code",
   "execution_count": 136,
   "metadata": {},
   "outputs": [
    {
     "name": "stdout",
     "output_type": "stream",
     "text": [
      "[0.04684665 0.0259699  0.08308823 0.01004519 0.06010964 0.29029753\n 0.03617807 0.0640666  0.0218414  0.05266816 0.04791624 0.03261307\n 0.22835931]\n"
     ]
    },
    {
     "data": {
      "text/plain": [
       "<matplotlib.collections.PathCollection at 0x10911ba20>"
      ]
     },
     "execution_count": 136,
     "metadata": {},
     "output_type": "execute_result"
    },
    {
     "data": {
      "image/png": "[encoded data removed]",
      "text/plain": [
       "<matplotlib.figure.Figure at 0x10912ada0>"
      ]
     },
     "metadata": {},
     "output_type": "display_data"
    }
   ],
   "source": [
    "importances = list(decision_forest.feature_importances_)\n",
    "\n",
    "number = list(range(1, 14))\n",
    "\n",
    "print(decision_forest.feature_importances_)\n",
    "\n",
    "plt.scatter(x=number, y=importances)"
   ]
  }
 ],
 "metadata": {
  "kernelspec": {
   "display_name": "Python 2",
   "language": "python",
   "name": "python2"
  },
  "language_info": {
   "codemirror_mode": {
    "name": "ipython",
    "version": 2.0
   },
   "file_extension": ".py",
   "mimetype": "text/x-python",
   "name": "python",
   "nbconvert_exporter": "python",
   "pygments_lexer": "ipython2",
   "version": "2.7.6"
  }
 },
 "nbformat": 4,
 "nbformat_minor": 0
}
