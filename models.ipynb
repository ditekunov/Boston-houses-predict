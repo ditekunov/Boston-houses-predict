{
 "cells": [
  {
   "cell_type": "code",
   "execution_count": 9,
   "metadata": {
    "collapsed": true
   },
   "outputs": [],
   "source": [
    "import pandas as pd\n",
    "import numpy as np\n",
    "import numpy as np\n",
    "import pandas as pd\n",
    "from numpy import array\n",
    "from numpy import argmax\n",
    "from sklearn.preprocessing import LabelEncoder\n",
    "from sklearn.preprocessing import OneHotEncoder\n",
    "from sklearn import model_selection\n",
    "import matplotlib.pyplot as plt\n",
    "from sklearn.preprocessing import StandardScaler\n",
    "from sklearn.linear_model import LinearRegression\n",
    "from sklearn.linear_model import LogisticRegression\n",
    "from sklearn.metrics import accuracy_score, roc_auc_score\n",
    "from sklearn.metrics import roc_curve, precision_recall_curve\n",
    "from sklearn.ensemble import RandomForestClassifier\n",
    "from sklearn.tree import DecisionTreeClassifier\n",
    "from sklearn.ensemble import BaggingClassifier\n",
    "from sklearn.neighbors import KNeighborsClassifier\n",
    "from sklearn.ensemble import RandomForestClassifier\n",
    "import seaborn as sns\n",
    "from sklearn.metrics import f1_score\n",
    "import time\n",
    "from sklearn.metrics import classification_report"
   ]
  },
  {
   "cell_type": "code",
   "execution_count": 4,
   "metadata": {},
   "outputs": [
    {
     "name": "stdout",
     "output_type": "stream",
     "text": [
      "   ID     crim    zn  indus  chas    nox     rm   age     dis  rad  tax  \\\n0   1  0.00632  18.0   2.31     0  0.538  6.575  65.2  4.0900    1  296   \n1   2  0.02731   0.0   7.07     0  0.469  6.421  78.9  4.9671    2  242   \n2   4  0.03237   0.0   2.18     0  0.458  6.998  45.8  6.0622    3  222   \n3   5  0.06905   0.0   2.18     0  0.458  7.147  54.2  6.0622    3  222   \n4   7  0.08829  12.5   7.87     0  0.524  6.012  66.6  5.5605    5  311   \n\n   ptratio   black  lstat  medv  \n0     15.3  396.90   4.98  24.0  \n1     17.8  396.90   9.14  21.6  \n2     18.7  394.63   2.94  33.4  \n3     18.7  396.90   5.33  36.2  \n4     15.2  395.60  12.43  22.9  \n__________\n0    24.0\n1    21.6\n2    33.4\n3    36.2\n4    22.9\nName: medv, dtype: float64\n__________\n      crim    zn  indus  chas    nox     rm   age     dis  rad  tax  ptratio  \\\n0  0.00632  18.0   2.31     0  0.538  6.575  65.2  4.0900    1  296     15.3   \n1  0.02731   0.0   7.07     0  0.469  6.421  78.9  4.9671    2  242     17.8   \n2  0.03237   0.0   2.18     0  0.458  6.998  45.8  6.0622    3  222     18.7   \n3  0.06905   0.0   2.18     0  0.458  7.147  54.2  6.0622    3  222     18.7   \n4  0.08829  12.5   7.87     0  0.524  6.012  66.6  5.5605    5  311     15.2   \n\n    black  lstat  \n0  396.90   4.98  \n1  396.90   9.14  \n2  394.63   2.94  \n3  396.90   5.33  \n4  395.60  12.43  \n"
     ]
    }
   ],
   "source": [
    "data = pd.read_csv(\"/Users/daniiltekunov/Desktop/train.csv\")\n",
    "\n",
    "print(data[0:5])\n",
    "\n",
    "y = data.medv\n",
    "\n",
    "X = data.drop('medv', axis=1)\n",
    "X = X.drop('ID', axis=1)\n",
    "print(\"__________\")\n",
    "print(y[0:5])\n",
    "print(\"__________\")\n",
    "print(X[0:5])"
   ]
  },
  {
   "cell_type": "markdown",
   "metadata": {},
   "source": [
    "Now, let's split the sample via 7:3:"
   ]
  },
  {
   "cell_type": "code",
   "execution_count": 6,
   "metadata": {},
   "outputs": [
    {
     "name": "stdout",
     "output_type": "stream",
     "text": [
      "266\n67\n266\n67\n"
     ]
    }
   ],
   "source": [
    "# Saving seed \n",
    "divide_seed = np.random.randint(1, 100)\n",
    "\n",
    "# And then split the data\n",
    "X_train, X_test, y_train, y_test = model_selection.train_test_split(\n",
    "    X, y, test_size=0.2, random_state=divide_seed)\n",
    "\n",
    "# And check if they splitted correctly\n",
    "print(len(X_train))\n",
    "print(len(X_test))\n",
    "print(len(y_train))\n",
    "print(len(y_test))"
   ]
  },
  {
   "cell_type": "markdown",
   "metadata": {},
   "source": [
    "Also, we need to normallize and scale the data, so we'll use Scaler:"
   ]
  },
  {
   "cell_type": "code",
   "execution_count": 7,
   "metadata": {},
   "outputs": [],
   "source": [
    "scaler = StandardScaler()\n",
    "\n",
    "# We normalize train sample\n",
    "scaler.fit(X_train)\n",
    "X_train = scaler.transform(X_train)\n",
    "\n",
    "# And test sample\n",
    "scaler.fit(X_test)\n",
    "X_test = scaler.transform(X_test)"
   ]
  },
  {
   "cell_type": "markdown",
   "metadata": {},
   "source": [
    "Let's start with a linear regression all over the model:\n"
   ]
  },
  {
   "cell_type": "code",
   "execution_count": 39,
   "metadata": {},
   "outputs": [
    {
     "name": "stdout",
     "output_type": "stream",
     "text": [
      "Test result: 0.73337876115717\nTrain result: 0.6931083579594669\n"
     ]
    }
   ],
   "source": [
    "lr = LinearRegression()\n",
    "\n",
    "lr.fit(X_train, y_train)\n",
    "\n",
    "prediction_lr = lr.predict(X_test)\n",
    "\n",
    "print(\"Test result:\", lr.score(X_test, y_test))\n",
    "\n",
    "print(\"Train result:\", lr.score(X_train, y_train))"
   ]
  },
  {
   "cell_type": "markdown",
   "metadata": {},
   "source": [
    "Now, let's try to improve the quality by using ID feature too:"
   ]
  },
  {
   "cell_type": "code",
   "execution_count": 51,
   "metadata": {},
   "outputs": [
    {
     "name": "stdout",
     "output_type": "stream",
     "text": [
      "Test result: 0.6987528261011171\nTrain result: 0.730170455932659\n"
     ]
    }
   ],
   "source": [
    "y = data.medv\n",
    "\n",
    "X = data.drop('medv', axis=1)\n",
    "#X = X.drop('ID', axis=1)\n",
    "\n",
    "divide_seed = np.random.randint(1, 100)\n",
    "\n",
    "X_train, X_test, y_train, y_test = model_selection.train_test_split(\n",
    "    X, y, test_size=0.2, random_state=divide_seed)\n",
    "\n",
    "#####\n",
    "scaler = StandardScaler()\n",
    "\n",
    "scaler.fit(X_train)\n",
    "X_train = scaler.transform(X_train)\n",
    "\n",
    "scaler.fit(X_test)\n",
    "X_test = scaler.transform(X_test)\n",
    "\n",
    "lr = LinearRegression()\n",
    "\n",
    "lr.fit(X_train, y_train)\n",
    "\n",
    "#####\n",
    "prediction_lr = lr.predict(X_test)\n",
    "\n",
    "print(\"Test result:\", lr.score(X_test, y_test))\n",
    "\n",
    "print(\"Train result:\", lr.score(X_train, y_train))"
   ]
  },
  {
   "cell_type": "markdown",
   "metadata": {},
   "source": [
    "Didn't work, so let's try again and remove the unnecessary features:"
   ]
  },
  {
   "cell_type": "code",
   "execution_count": 53,
   "metadata": {},
   "outputs": [
    {
     "name": "stdout",
     "output_type": "stream",
     "text": [
      "Test result: 0.7555769924688236\nTrain result: 0.7097278698368696\n"
     ]
    }
   ],
   "source": [
    "y = data.medv\n",
    "\n",
    "X = data.drop('medv', axis=1)\n",
    "X = X.drop('ID', axis=1)\n",
    "X = X.drop('zn', axis=1)\n",
    "\n",
    "\n",
    "divide_seed = np.random.randint(1, 100)\n",
    "\n",
    "X_train, X_test, y_train, y_test = model_selection.train_test_split(\n",
    "    X, y, test_size=0.2, random_state=divide_seed)\n",
    "\n",
    "#####\n",
    "scaler = StandardScaler()\n",
    "\n",
    "scaler.fit(X_train)\n",
    "X_train = scaler.transform(X_train)\n",
    "\n",
    "scaler.fit(X_test)\n",
    "X_test = scaler.transform(X_test)\n",
    "\n",
    "lr = LinearRegression()\n",
    "\n",
    "lr.fit(X_train, y_train)\n",
    "\n",
    "#####\n",
    "prediction_lr = lr.predict(X_test)\n",
    "\n",
    "print(\"Test result:\", lr.score(X_test, y_test))\n",
    "\n",
    "print(\"Train result:\", lr.score(X_train, y_train))"
   ]
  },
  {
   "cell_type": "markdown",
   "metadata": {},
   "source": [
    "This worked, as we can see, the accuracy of the model improved.\n",
    "\n",
    "Let's try to remove some more features:"
   ]
  },
  {
   "cell_type": "code",
   "execution_count": 70,
   "metadata": {},
   "outputs": [
    {
     "name": "stdout",
     "output_type": "stream",
     "text": [
      "Test result: 0.7917479370569762\nTrain result: 0.6999386348363776\n"
     ]
    }
   ],
   "source": [
    "y = data.medv\n",
    "\n",
    "X = data.drop('medv', axis=1)\n",
    "X = X.drop('ID', axis=1)\n",
    "X = X.drop('zn', axis=1)\n",
    "X = X.drop('nox', axis=1)\n",
    "\n",
    "\n",
    "divide_seed = np.random.randint(1, 100)\n",
    "\n",
    "X_train, X_test, y_train, y_test = model_selection.train_test_split(\n",
    "    X, y, test_size=0.2, random_state=divide_seed)\n",
    "\n",
    "#####\n",
    "scaler = StandardScaler()\n",
    "\n",
    "scaler.fit(X_train)\n",
    "X_train = scaler.transform(X_train)\n",
    "\n",
    "scaler.fit(X_test)\n",
    "X_test = scaler.transform(X_test)\n",
    "\n",
    "lr = LinearRegression()\n",
    "\n",
    "lr.fit(X_train, y_train)\n",
    "\n",
    "#####\n",
    "prediction_lr = lr.predict(X_test)\n",
    "\n",
    "print(\"Test result:\", lr.score(X_test, y_test))\n",
    "\n",
    "print(\"Train result:\", lr.score(X_train, y_train))"
   ]
  },
  {
   "cell_type": "markdown",
   "metadata": {},
   "source": [
    "Final result is quite well. Let's take a look at coefs in addition:"
   ]
  },
  {
   "cell_type": "code",
   "execution_count": 91,
   "metadata": {},
   "outputs": [
    {
     "name": "stdout",
     "output_type": "stream",
     "text": [
      "[-0.25636249  0.67220722 -0.01743912 -1.88414637  3.66640338 -0.42309502\n -3.23880119 -1.54193348 -3.73113393]\n"
     ]
    },
    {
     "data": {
      "text/plain": [
       "<matplotlib.collections.PathCollection at 0x10882b240>"
      ]
     },
     "execution_count": 91,
     "metadata": {},
     "output_type": "execute_result"
    },
    {
     "data": {
      "image/png": "[encoded data removed]",
      "text/plain": [
       "<matplotlib.figure.Figure at 0x1087dd390>"
      ]
     },
     "metadata": {},
     "output_type": "display_data"
    }
   ],
   "source": [
    "importances = list(lr.coef_)\n",
    "\n",
    "number = list(range(1, 10, 1))\n",
    "\n",
    "print(lr.coef_)\n",
    "\n",
    "plt.scatter(x=number, y=importances)"
   ]
  },
  {
   "cell_type": "markdown",
   "metadata": {},
   "source": [
    "But what if our case is rare and the best accuracy of a basic model can be better? Let's take a look at both models in perspective:"
   ]
  },
  {
   "cell_type": "code",
   "execution_count": 98,
   "metadata": {},
   "outputs": [
    {
     "name": "stdout",
     "output_type": "stream",
     "text": [
      "Max accuracy:  0.8209416388859451\n"
     ]
    }
   ],
   "source": [
    "list_of_acc = list()\n",
    "y = data.medv\n",
    "\n",
    "X = data.drop('medv', axis=1)\n",
    "X = X.drop('ID', axis=1)\n",
    "X = X.drop('zn', axis=1)\n",
    "X = X.drop('nox', axis=1)\n",
    "\n",
    "for i in range(1, 1000):\n",
    "    divide_seed = np.random.randint(1, 100)\n",
    "\n",
    "    X_train, X_test, y_train, y_test = model_selection.train_test_split(\n",
    "    X, y, test_size=0.2, random_state=divide_seed)\n",
    "\n",
    "#####\n",
    "    scaler = StandardScaler()\n",
    "\n",
    "    scaler.fit(X_train)\n",
    "    X_train = scaler.transform(X_train)\n",
    "\n",
    "    scaler.fit(X_test)\n",
    "    X_test = scaler.transform(X_test)\n",
    "\n",
    "    lr = LinearRegression()\n",
    "\n",
    "    lr.fit(X_train, y_train)\n",
    "\n",
    "#####\n",
    "    prediction_lr = lr.predict(X_test)\n",
    "\n",
    "    list_of_acc.append(lr.score(X_test, y_test))\n",
    "    \n",
    "print(\"Max accuracy: \", max(list_of_acc))"
   ]
  },
  {
   "cell_type": "code",
   "execution_count": 99,
   "metadata": {},
   "outputs": [
    {
     "name": "stdout",
     "output_type": "stream",
     "text": [
      "Max accuracy:  0.8370074316577969\n"
     ]
    }
   ],
   "source": [
    "list_of_acc = list()\n",
    "y = data.medv\n",
    "\n",
    "X = data.drop('medv', axis=1)\n",
    "X = X.drop('ID', axis=1)\n",
    "\n",
    "for i in range(1, 1000):\n",
    "    divide_seed = np.random.randint(1, 100)\n",
    "\n",
    "    X_train, X_test, y_train, y_test = model_selection.train_test_split(\n",
    "    X, y, test_size=0.2, random_state=divide_seed)\n",
    "\n",
    "#####\n",
    "    scaler = StandardScaler()\n",
    "\n",
    "    scaler.fit(X_train)\n",
    "    X_train = scaler.transform(X_train)\n",
    "\n",
    "    scaler.fit(X_test)\n",
    "    X_test = scaler.transform(X_test)\n",
    "\n",
    "    lr = LinearRegression()\n",
    "\n",
    "    lr.fit(X_train, y_train)\n",
    "\n",
    "#####\n",
    "    prediction_lr = lr.predict(X_test)\n",
    "\n",
    "    list_of_acc.append(lr.score(X_test, y_test))\n",
    "    \n",
    "print(\"Max accuracy: \", max(list_of_acc))"
   ]
  },
  {
   "cell_type": "markdown",
   "metadata": {},
   "source": [
    "The hypothesis confirmed. Basic model has better accuracy."
   ]
  },
  {
   "cell_type": "code",
   "execution_count": 102,
   "metadata": {},
   "outputs": [
    {
     "name": "stdout",
     "output_type": "stream",
     "text": [
      "[-0.68366883  0.99670717  0.42212487  0.72355171 -1.68213648  3.10149278\n -0.37435981 -3.13540497  2.70496033 -1.7157683  -1.97716318  0.98716755\n -4.0320161 ]\n"
     ]
    },
    {
     "data": {
      "text/plain": [
       "<matplotlib.collections.PathCollection at 0x108a75d68>"
      ]
     },
     "execution_count": 102,
     "metadata": {},
     "output_type": "execute_result"
    },
    {
     "data": {
      "image/png": "[encoded data removed]",
      "text/plain": [
       "<matplotlib.figure.Figure at 0x1089ca6d8>"
      ]
     },
     "metadata": {},
     "output_type": "display_data"
    }
   ],
   "source": [
    "importances = list(lr.coef_)\n",
    "\n",
    "number = list(range(1, 14, 1))\n",
    "\n",
    "print(lr.coef_)\n",
    "\n",
    "plt.scatter(x=number, y=importances)"
   ]
  },
  {
   "cell_type": "code",
   "execution_count": null,
   "metadata": {},
   "outputs": [],
   "source": [
    ""
   ]
  }
 ],
 "metadata": {
  "kernelspec": {
   "display_name": "Python 2",
   "language": "python",
   "name": "python2"
  },
  "language_info": {
   "codemirror_mode": {
    "name": "ipython",
    "version": 2.0
   },
   "file_extension": ".py",
   "mimetype": "text/x-python",
   "name": "python",
   "nbconvert_exporter": "python",
   "pygments_lexer": "ipython2",
   "version": "2.7.6"
  }
 },
 "nbformat": 4,
 "nbformat_minor": 0
}